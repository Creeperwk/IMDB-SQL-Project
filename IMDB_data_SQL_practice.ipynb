{
  "nbformat": 4,
  "nbformat_minor": 0,
  "metadata": {
    "colab": {
      "provenance": [],
      "authorship_tag": "ABX9TyMmi8A6MiyYBrDsAv2uQqgg",
      "include_colab_link": true
    },
    "kernelspec": {
      "name": "python3",
      "display_name": "Python 3"
    },
    "language_info": {
      "name": "python"
    }
  },
  "cells": [
    {
      "cell_type": "markdown",
      "metadata": {
        "id": "view-in-github",
        "colab_type": "text"
      },
      "source": [
        "<a href=\"https://colab.research.google.com/github/Creeperwk/IMDB-SQL-Project/blob/main/IMDB_data_SQL_practice.ipynb\" target=\"_parent\"><img src=\"https://colab.research.google.com/assets/colab-badge.svg\" alt=\"Open In Colab\"/></a>"
      ]
    },
    {
      "cell_type": "markdown",
      "source": [
        "## **Preparations**"
      ],
      "metadata": {
        "id": "ZbrawhlrnK-X"
      }
    },
    {
      "cell_type": "code",
      "execution_count": 3,
      "metadata": {
        "id": "Qxr6Oaqvhd95"
      },
      "outputs": [],
      "source": [
        "# Import the packages\n",
        "import numpy as np\n",
        "import pandas as pd\n",
        "import sqlite3 as sql"
      ]
    },
    {
      "cell_type": "code",
      "source": [
        "# Connect the database\n",
        "Database = \"/content/imdb-project-sql/movies.sqlite\"\n",
        "db = sql.connect(Database)\n",
        "# Create a cursor object\n",
        "cur = db.cursor()"
      ],
      "metadata": {
        "id": "HLCTjnEelFLD"
      },
      "execution_count": 14,
      "outputs": []
    },
    {
      "cell_type": "code",
      "source": [
        "#Get movie column names\n",
        "cur.execute(\"PRAGMA table_info(movies)\")\n",
        "movies = cur.fetchall()\n",
        "\n",
        "movies_column_names = []\n",
        "for column_info in movies:\n",
        "    column_name = column_info[1]\n",
        "    movies_column_names.append(column_name)\n",
        "print(movies_column_names)\n"
      ],
      "metadata": {
        "colab": {
          "base_uri": "https://localhost:8080/"
        },
        "id": "w24rh564o9_0",
        "outputId": "9eb0c3b1-1f1c-46b6-aca1-4c93ddeb7d35"
      },
      "execution_count": 18,
      "outputs": [
        {
          "output_type": "stream",
          "name": "stdout",
          "text": [
            "['id', 'original_title', 'budget', 'popularity', 'release_date', 'revenue', 'title', 'vote_average', 'vote_count', 'overview', 'tagline', 'uid', 'director_id']\n"
          ]
        }
      ]
    },
    {
      "cell_type": "code",
      "source": [
        "# Get director column names\n",
        "cur.execute(\"PRAGMA table_info(directors)\")\n",
        "directors = cur.fetchall()\n",
        "\n",
        "directors_column_names = []\n",
        "for column_info in directors:\n",
        "    column_name = column_info[1]\n",
        "    directors_column_names.append(column_name)\n",
        "print(directors_column_names)"
      ],
      "metadata": {
        "colab": {
          "base_uri": "https://localhost:8080/"
        },
        "id": "7eLpJOl_rZ1x",
        "outputId": "9065c4a1-4d76-4871-e6d0-d59a9909106b"
      },
      "execution_count": 17,
      "outputs": [
        {
          "output_type": "execute_result",
          "data": {
            "text/plain": [
              "['name', 'id', 'gender', 'uid', 'department']"
            ]
          },
          "metadata": {},
          "execution_count": 17
        }
      ]
    },
    {
      "cell_type": "markdown",
      "source": [
        "**Question 1**: Can you get all data about movies?"
      ],
      "metadata": {
        "id": "IVCERu06o1y7"
      }
    },
    {
      "cell_type": "code",
      "source": [
        "# Fetch the movie data\n",
        "cur.execute(\"SELECT * FROM movies\")\n",
        "movies = cur.fetchall()\n",
        "movies = pd.DataFrame(movies, columns=movies_column_names)\n",
        "movies.head(3)"
      ],
      "metadata": {
        "colab": {
          "base_uri": "https://localhost:8080/",
          "height": 441
        },
        "id": "hGitu6tWr4Xj",
        "outputId": "777ed5b4-0665-41ce-f95e-e0581ee85a4a"
      },
      "execution_count": 47,
      "outputs": [
        {
          "output_type": "execute_result",
          "data": {
            "text/plain": [
              "      id                            original_title     budget  popularity  \\\n",
              "0  43597                                    Avatar  237000000         150   \n",
              "1  43598  Pirates of the Caribbean: At World's End  300000000         139   \n",
              "2  43599                                   Spectre  245000000         107   \n",
              "\n",
              "  release_date     revenue                                     title  \\\n",
              "0   2009-12-10  2787965087                                    Avatar   \n",
              "1   2007-05-19   961000000  Pirates of the Caribbean: At World's End   \n",
              "2   2015-10-26   880674609                                   Spectre   \n",
              "\n",
              "   vote_average  vote_count  \\\n",
              "0           7.2       11800   \n",
              "1           6.9        4500   \n",
              "2           6.3        4466   \n",
              "\n",
              "                                            overview  \\\n",
              "0  In the 22nd century, a paraplegic Marine is di...   \n",
              "1  Captain Barbossa, long believed to be dead, ha...   \n",
              "2  A cryptic message from Bond’s past sends him o...   \n",
              "\n",
              "                                          tagline     uid  director_id  \n",
              "0                     Enter the World of Pandora.   19995         4762  \n",
              "1  At the end of the world, the adventure begins.     285         4763  \n",
              "2                           A Plan No One Escapes  206647         4764  "
            ],
            "text/html": [
              "\n",
              "  <div id=\"df-61749f5e-38f9-4e63-a7b5-bd971b02bdb5\" class=\"colab-df-container\">\n",
              "    <div>\n",
              "<style scoped>\n",
              "    .dataframe tbody tr th:only-of-type {\n",
              "        vertical-align: middle;\n",
              "    }\n",
              "\n",
              "    .dataframe tbody tr th {\n",
              "        vertical-align: top;\n",
              "    }\n",
              "\n",
              "    .dataframe thead th {\n",
              "        text-align: right;\n",
              "    }\n",
              "</style>\n",
              "<table border=\"1\" class=\"dataframe\">\n",
              "  <thead>\n",
              "    <tr style=\"text-align: right;\">\n",
              "      <th></th>\n",
              "      <th>id</th>\n",
              "      <th>original_title</th>\n",
              "      <th>budget</th>\n",
              "      <th>popularity</th>\n",
              "      <th>release_date</th>\n",
              "      <th>revenue</th>\n",
              "      <th>title</th>\n",
              "      <th>vote_average</th>\n",
              "      <th>vote_count</th>\n",
              "      <th>overview</th>\n",
              "      <th>tagline</th>\n",
              "      <th>uid</th>\n",
              "      <th>director_id</th>\n",
              "    </tr>\n",
              "  </thead>\n",
              "  <tbody>\n",
              "    <tr>\n",
              "      <th>0</th>\n",
              "      <td>43597</td>\n",
              "      <td>Avatar</td>\n",
              "      <td>237000000</td>\n",
              "      <td>150</td>\n",
              "      <td>2009-12-10</td>\n",
              "      <td>2787965087</td>\n",
              "      <td>Avatar</td>\n",
              "      <td>7.2</td>\n",
              "      <td>11800</td>\n",
              "      <td>In the 22nd century, a paraplegic Marine is di...</td>\n",
              "      <td>Enter the World of Pandora.</td>\n",
              "      <td>19995</td>\n",
              "      <td>4762</td>\n",
              "    </tr>\n",
              "    <tr>\n",
              "      <th>1</th>\n",
              "      <td>43598</td>\n",
              "      <td>Pirates of the Caribbean: At World's End</td>\n",
              "      <td>300000000</td>\n",
              "      <td>139</td>\n",
              "      <td>2007-05-19</td>\n",
              "      <td>961000000</td>\n",
              "      <td>Pirates of the Caribbean: At World's End</td>\n",
              "      <td>6.9</td>\n",
              "      <td>4500</td>\n",
              "      <td>Captain Barbossa, long believed to be dead, ha...</td>\n",
              "      <td>At the end of the world, the adventure begins.</td>\n",
              "      <td>285</td>\n",
              "      <td>4763</td>\n",
              "    </tr>\n",
              "    <tr>\n",
              "      <th>2</th>\n",
              "      <td>43599</td>\n",
              "      <td>Spectre</td>\n",
              "      <td>245000000</td>\n",
              "      <td>107</td>\n",
              "      <td>2015-10-26</td>\n",
              "      <td>880674609</td>\n",
              "      <td>Spectre</td>\n",
              "      <td>6.3</td>\n",
              "      <td>4466</td>\n",
              "      <td>A cryptic message from Bond’s past sends him o...</td>\n",
              "      <td>A Plan No One Escapes</td>\n",
              "      <td>206647</td>\n",
              "      <td>4764</td>\n",
              "    </tr>\n",
              "  </tbody>\n",
              "</table>\n",
              "</div>\n",
              "    <div class=\"colab-df-buttons\">\n",
              "\n",
              "  <div class=\"colab-df-container\">\n",
              "    <button class=\"colab-df-convert\" onclick=\"convertToInteractive('df-61749f5e-38f9-4e63-a7b5-bd971b02bdb5')\"\n",
              "            title=\"Convert this dataframe to an interactive table.\"\n",
              "            style=\"display:none;\">\n",
              "\n",
              "  <svg xmlns=\"http://www.w3.org/2000/svg\" height=\"24px\" viewBox=\"0 -960 960 960\">\n",
              "    <path d=\"M120-120v-720h720v720H120Zm60-500h600v-160H180v160Zm220 220h160v-160H400v160Zm0 220h160v-160H400v160ZM180-400h160v-160H180v160Zm440 0h160v-160H620v160ZM180-180h160v-160H180v160Zm440 0h160v-160H620v160Z\"/>\n",
              "  </svg>\n",
              "    </button>\n",
              "\n",
              "  <style>\n",
              "    .colab-df-container {\n",
              "      display:flex;\n",
              "      gap: 12px;\n",
              "    }\n",
              "\n",
              "    .colab-df-convert {\n",
              "      background-color: #E8F0FE;\n",
              "      border: none;\n",
              "      border-radius: 50%;\n",
              "      cursor: pointer;\n",
              "      display: none;\n",
              "      fill: #1967D2;\n",
              "      height: 32px;\n",
              "      padding: 0 0 0 0;\n",
              "      width: 32px;\n",
              "    }\n",
              "\n",
              "    .colab-df-convert:hover {\n",
              "      background-color: #E2EBFA;\n",
              "      box-shadow: 0px 1px 2px rgba(60, 64, 67, 0.3), 0px 1px 3px 1px rgba(60, 64, 67, 0.15);\n",
              "      fill: #174EA6;\n",
              "    }\n",
              "\n",
              "    .colab-df-buttons div {\n",
              "      margin-bottom: 4px;\n",
              "    }\n",
              "\n",
              "    [theme=dark] .colab-df-convert {\n",
              "      background-color: #3B4455;\n",
              "      fill: #D2E3FC;\n",
              "    }\n",
              "\n",
              "    [theme=dark] .colab-df-convert:hover {\n",
              "      background-color: #434B5C;\n",
              "      box-shadow: 0px 1px 3px 1px rgba(0, 0, 0, 0.15);\n",
              "      filter: drop-shadow(0px 1px 2px rgba(0, 0, 0, 0.3));\n",
              "      fill: #FFFFFF;\n",
              "    }\n",
              "  </style>\n",
              "\n",
              "    <script>\n",
              "      const buttonEl =\n",
              "        document.querySelector('#df-61749f5e-38f9-4e63-a7b5-bd971b02bdb5 button.colab-df-convert');\n",
              "      buttonEl.style.display =\n",
              "        google.colab.kernel.accessAllowed ? 'block' : 'none';\n",
              "\n",
              "      async function convertToInteractive(key) {\n",
              "        const element = document.querySelector('#df-61749f5e-38f9-4e63-a7b5-bd971b02bdb5');\n",
              "        const dataTable =\n",
              "          await google.colab.kernel.invokeFunction('convertToInteractive',\n",
              "                                                    [key], {});\n",
              "        if (!dataTable) return;\n",
              "\n",
              "        const docLinkHtml = 'Like what you see? Visit the ' +\n",
              "          '<a target=\"_blank\" href=https://colab.research.google.com/notebooks/data_table.ipynb>data table notebook</a>'\n",
              "          + ' to learn more about interactive tables.';\n",
              "        element.innerHTML = '';\n",
              "        dataTable['output_type'] = 'display_data';\n",
              "        await google.colab.output.renderOutput(dataTable, element);\n",
              "        const docLink = document.createElement('div');\n",
              "        docLink.innerHTML = docLinkHtml;\n",
              "        element.appendChild(docLink);\n",
              "      }\n",
              "    </script>\n",
              "  </div>\n",
              "\n",
              "\n",
              "<div id=\"df-34441229-62d8-45a4-8602-f01fb3ec86f1\">\n",
              "  <button class=\"colab-df-quickchart\" onclick=\"quickchart('df-34441229-62d8-45a4-8602-f01fb3ec86f1')\"\n",
              "            title=\"Suggest charts\"\n",
              "            style=\"display:none;\">\n",
              "\n",
              "<svg xmlns=\"http://www.w3.org/2000/svg\" height=\"24px\"viewBox=\"0 0 24 24\"\n",
              "     width=\"24px\">\n",
              "    <g>\n",
              "        <path d=\"M19 3H5c-1.1 0-2 .9-2 2v14c0 1.1.9 2 2 2h14c1.1 0 2-.9 2-2V5c0-1.1-.9-2-2-2zM9 17H7v-7h2v7zm4 0h-2V7h2v10zm4 0h-2v-4h2v4z\"/>\n",
              "    </g>\n",
              "</svg>\n",
              "  </button>\n",
              "\n",
              "<style>\n",
              "  .colab-df-quickchart {\n",
              "      --bg-color: #E8F0FE;\n",
              "      --fill-color: #1967D2;\n",
              "      --hover-bg-color: #E2EBFA;\n",
              "      --hover-fill-color: #174EA6;\n",
              "      --disabled-fill-color: #AAA;\n",
              "      --disabled-bg-color: #DDD;\n",
              "  }\n",
              "\n",
              "  [theme=dark] .colab-df-quickchart {\n",
              "      --bg-color: #3B4455;\n",
              "      --fill-color: #D2E3FC;\n",
              "      --hover-bg-color: #434B5C;\n",
              "      --hover-fill-color: #FFFFFF;\n",
              "      --disabled-bg-color: #3B4455;\n",
              "      --disabled-fill-color: #666;\n",
              "  }\n",
              "\n",
              "  .colab-df-quickchart {\n",
              "    background-color: var(--bg-color);\n",
              "    border: none;\n",
              "    border-radius: 50%;\n",
              "    cursor: pointer;\n",
              "    display: none;\n",
              "    fill: var(--fill-color);\n",
              "    height: 32px;\n",
              "    padding: 0;\n",
              "    width: 32px;\n",
              "  }\n",
              "\n",
              "  .colab-df-quickchart:hover {\n",
              "    background-color: var(--hover-bg-color);\n",
              "    box-shadow: 0 1px 2px rgba(60, 64, 67, 0.3), 0 1px 3px 1px rgba(60, 64, 67, 0.15);\n",
              "    fill: var(--button-hover-fill-color);\n",
              "  }\n",
              "\n",
              "  .colab-df-quickchart-complete:disabled,\n",
              "  .colab-df-quickchart-complete:disabled:hover {\n",
              "    background-color: var(--disabled-bg-color);\n",
              "    fill: var(--disabled-fill-color);\n",
              "    box-shadow: none;\n",
              "  }\n",
              "\n",
              "  .colab-df-spinner {\n",
              "    border: 2px solid var(--fill-color);\n",
              "    border-color: transparent;\n",
              "    border-bottom-color: var(--fill-color);\n",
              "    animation:\n",
              "      spin 1s steps(1) infinite;\n",
              "  }\n",
              "\n",
              "  @keyframes spin {\n",
              "    0% {\n",
              "      border-color: transparent;\n",
              "      border-bottom-color: var(--fill-color);\n",
              "      border-left-color: var(--fill-color);\n",
              "    }\n",
              "    20% {\n",
              "      border-color: transparent;\n",
              "      border-left-color: var(--fill-color);\n",
              "      border-top-color: var(--fill-color);\n",
              "    }\n",
              "    30% {\n",
              "      border-color: transparent;\n",
              "      border-left-color: var(--fill-color);\n",
              "      border-top-color: var(--fill-color);\n",
              "      border-right-color: var(--fill-color);\n",
              "    }\n",
              "    40% {\n",
              "      border-color: transparent;\n",
              "      border-right-color: var(--fill-color);\n",
              "      border-top-color: var(--fill-color);\n",
              "    }\n",
              "    60% {\n",
              "      border-color: transparent;\n",
              "      border-right-color: var(--fill-color);\n",
              "    }\n",
              "    80% {\n",
              "      border-color: transparent;\n",
              "      border-right-color: var(--fill-color);\n",
              "      border-bottom-color: var(--fill-color);\n",
              "    }\n",
              "    90% {\n",
              "      border-color: transparent;\n",
              "      border-bottom-color: var(--fill-color);\n",
              "    }\n",
              "  }\n",
              "</style>\n",
              "\n",
              "  <script>\n",
              "    async function quickchart(key) {\n",
              "      const quickchartButtonEl =\n",
              "        document.querySelector('#' + key + ' button');\n",
              "      quickchartButtonEl.disabled = true;  // To prevent multiple clicks.\n",
              "      quickchartButtonEl.classList.add('colab-df-spinner');\n",
              "      try {\n",
              "        const charts = await google.colab.kernel.invokeFunction(\n",
              "            'suggestCharts', [key], {});\n",
              "      } catch (error) {\n",
              "        console.error('Error during call to suggestCharts:', error);\n",
              "      }\n",
              "      quickchartButtonEl.classList.remove('colab-df-spinner');\n",
              "      quickchartButtonEl.classList.add('colab-df-quickchart-complete');\n",
              "    }\n",
              "    (() => {\n",
              "      let quickchartButtonEl =\n",
              "        document.querySelector('#df-34441229-62d8-45a4-8602-f01fb3ec86f1 button');\n",
              "      quickchartButtonEl.style.display =\n",
              "        google.colab.kernel.accessAllowed ? 'block' : 'none';\n",
              "    })();\n",
              "  </script>\n",
              "</div>\n",
              "    </div>\n",
              "  </div>\n"
            ]
          },
          "metadata": {},
          "execution_count": 47
        }
      ]
    },
    {
      "cell_type": "code",
      "source": [
        "# Data summary\n",
        "movies.info()"
      ],
      "metadata": {
        "id": "tFkLsOoYszar"
      },
      "execution_count": null,
      "outputs": []
    },
    {
      "cell_type": "markdown",
      "source": [
        "**Question 2**: How do you get all data about directors?"
      ],
      "metadata": {
        "id": "12qfsnAfshEZ"
      }
    },
    {
      "cell_type": "code",
      "source": [
        "# Fetch the director data\n",
        "cur.execute(\"SELECT * FROM directors\")\n",
        "directors = cur.fetchall()\n",
        "directors = pd.DataFrame(directors, columns=directors_column_names)\n",
        "directors.head(3)"
      ],
      "metadata": {
        "colab": {
          "base_uri": "https://localhost:8080/",
          "height": 143
        },
        "id": "L5e8vWzHtQn8",
        "outputId": "6918c86b-e4e7-4414-80e4-202affa079b3"
      },
      "execution_count": 34,
      "outputs": [
        {
          "output_type": "execute_result",
          "data": {
            "text/plain": [
              "             name    id  gender   uid department\n",
              "0   James Cameron  4762       2  2710  Directing\n",
              "1  Gore Verbinski  4763       2  1704  Directing\n",
              "2      Sam Mendes  4764       2    39  Directing"
            ],
            "text/html": [
              "\n",
              "  <div id=\"df-4552a8df-1dcb-46fa-9255-55adb7532cfe\" class=\"colab-df-container\">\n",
              "    <div>\n",
              "<style scoped>\n",
              "    .dataframe tbody tr th:only-of-type {\n",
              "        vertical-align: middle;\n",
              "    }\n",
              "\n",
              "    .dataframe tbody tr th {\n",
              "        vertical-align: top;\n",
              "    }\n",
              "\n",
              "    .dataframe thead th {\n",
              "        text-align: right;\n",
              "    }\n",
              "</style>\n",
              "<table border=\"1\" class=\"dataframe\">\n",
              "  <thead>\n",
              "    <tr style=\"text-align: right;\">\n",
              "      <th></th>\n",
              "      <th>name</th>\n",
              "      <th>id</th>\n",
              "      <th>gender</th>\n",
              "      <th>uid</th>\n",
              "      <th>department</th>\n",
              "    </tr>\n",
              "  </thead>\n",
              "  <tbody>\n",
              "    <tr>\n",
              "      <th>0</th>\n",
              "      <td>James Cameron</td>\n",
              "      <td>4762</td>\n",
              "      <td>2</td>\n",
              "      <td>2710</td>\n",
              "      <td>Directing</td>\n",
              "    </tr>\n",
              "    <tr>\n",
              "      <th>1</th>\n",
              "      <td>Gore Verbinski</td>\n",
              "      <td>4763</td>\n",
              "      <td>2</td>\n",
              "      <td>1704</td>\n",
              "      <td>Directing</td>\n",
              "    </tr>\n",
              "    <tr>\n",
              "      <th>2</th>\n",
              "      <td>Sam Mendes</td>\n",
              "      <td>4764</td>\n",
              "      <td>2</td>\n",
              "      <td>39</td>\n",
              "      <td>Directing</td>\n",
              "    </tr>\n",
              "  </tbody>\n",
              "</table>\n",
              "</div>\n",
              "    <div class=\"colab-df-buttons\">\n",
              "\n",
              "  <div class=\"colab-df-container\">\n",
              "    <button class=\"colab-df-convert\" onclick=\"convertToInteractive('df-4552a8df-1dcb-46fa-9255-55adb7532cfe')\"\n",
              "            title=\"Convert this dataframe to an interactive table.\"\n",
              "            style=\"display:none;\">\n",
              "\n",
              "  <svg xmlns=\"http://www.w3.org/2000/svg\" height=\"24px\" viewBox=\"0 -960 960 960\">\n",
              "    <path d=\"M120-120v-720h720v720H120Zm60-500h600v-160H180v160Zm220 220h160v-160H400v160Zm0 220h160v-160H400v160ZM180-400h160v-160H180v160Zm440 0h160v-160H620v160ZM180-180h160v-160H180v160Zm440 0h160v-160H620v160Z\"/>\n",
              "  </svg>\n",
              "    </button>\n",
              "\n",
              "  <style>\n",
              "    .colab-df-container {\n",
              "      display:flex;\n",
              "      gap: 12px;\n",
              "    }\n",
              "\n",
              "    .colab-df-convert {\n",
              "      background-color: #E8F0FE;\n",
              "      border: none;\n",
              "      border-radius: 50%;\n",
              "      cursor: pointer;\n",
              "      display: none;\n",
              "      fill: #1967D2;\n",
              "      height: 32px;\n",
              "      padding: 0 0 0 0;\n",
              "      width: 32px;\n",
              "    }\n",
              "\n",
              "    .colab-df-convert:hover {\n",
              "      background-color: #E2EBFA;\n",
              "      box-shadow: 0px 1px 2px rgba(60, 64, 67, 0.3), 0px 1px 3px 1px rgba(60, 64, 67, 0.15);\n",
              "      fill: #174EA6;\n",
              "    }\n",
              "\n",
              "    .colab-df-buttons div {\n",
              "      margin-bottom: 4px;\n",
              "    }\n",
              "\n",
              "    [theme=dark] .colab-df-convert {\n",
              "      background-color: #3B4455;\n",
              "      fill: #D2E3FC;\n",
              "    }\n",
              "\n",
              "    [theme=dark] .colab-df-convert:hover {\n",
              "      background-color: #434B5C;\n",
              "      box-shadow: 0px 1px 3px 1px rgba(0, 0, 0, 0.15);\n",
              "      filter: drop-shadow(0px 1px 2px rgba(0, 0, 0, 0.3));\n",
              "      fill: #FFFFFF;\n",
              "    }\n",
              "  </style>\n",
              "\n",
              "    <script>\n",
              "      const buttonEl =\n",
              "        document.querySelector('#df-4552a8df-1dcb-46fa-9255-55adb7532cfe button.colab-df-convert');\n",
              "      buttonEl.style.display =\n",
              "        google.colab.kernel.accessAllowed ? 'block' : 'none';\n",
              "\n",
              "      async function convertToInteractive(key) {\n",
              "        const element = document.querySelector('#df-4552a8df-1dcb-46fa-9255-55adb7532cfe');\n",
              "        const dataTable =\n",
              "          await google.colab.kernel.invokeFunction('convertToInteractive',\n",
              "                                                    [key], {});\n",
              "        if (!dataTable) return;\n",
              "\n",
              "        const docLinkHtml = 'Like what you see? Visit the ' +\n",
              "          '<a target=\"_blank\" href=https://colab.research.google.com/notebooks/data_table.ipynb>data table notebook</a>'\n",
              "          + ' to learn more about interactive tables.';\n",
              "        element.innerHTML = '';\n",
              "        dataTable['output_type'] = 'display_data';\n",
              "        await google.colab.output.renderOutput(dataTable, element);\n",
              "        const docLink = document.createElement('div');\n",
              "        docLink.innerHTML = docLinkHtml;\n",
              "        element.appendChild(docLink);\n",
              "      }\n",
              "    </script>\n",
              "  </div>\n",
              "\n",
              "\n",
              "<div id=\"df-80579501-621b-43e1-ac5e-89e98f5d9bb4\">\n",
              "  <button class=\"colab-df-quickchart\" onclick=\"quickchart('df-80579501-621b-43e1-ac5e-89e98f5d9bb4')\"\n",
              "            title=\"Suggest charts\"\n",
              "            style=\"display:none;\">\n",
              "\n",
              "<svg xmlns=\"http://www.w3.org/2000/svg\" height=\"24px\"viewBox=\"0 0 24 24\"\n",
              "     width=\"24px\">\n",
              "    <g>\n",
              "        <path d=\"M19 3H5c-1.1 0-2 .9-2 2v14c0 1.1.9 2 2 2h14c1.1 0 2-.9 2-2V5c0-1.1-.9-2-2-2zM9 17H7v-7h2v7zm4 0h-2V7h2v10zm4 0h-2v-4h2v4z\"/>\n",
              "    </g>\n",
              "</svg>\n",
              "  </button>\n",
              "\n",
              "<style>\n",
              "  .colab-df-quickchart {\n",
              "      --bg-color: #E8F0FE;\n",
              "      --fill-color: #1967D2;\n",
              "      --hover-bg-color: #E2EBFA;\n",
              "      --hover-fill-color: #174EA6;\n",
              "      --disabled-fill-color: #AAA;\n",
              "      --disabled-bg-color: #DDD;\n",
              "  }\n",
              "\n",
              "  [theme=dark] .colab-df-quickchart {\n",
              "      --bg-color: #3B4455;\n",
              "      --fill-color: #D2E3FC;\n",
              "      --hover-bg-color: #434B5C;\n",
              "      --hover-fill-color: #FFFFFF;\n",
              "      --disabled-bg-color: #3B4455;\n",
              "      --disabled-fill-color: #666;\n",
              "  }\n",
              "\n",
              "  .colab-df-quickchart {\n",
              "    background-color: var(--bg-color);\n",
              "    border: none;\n",
              "    border-radius: 50%;\n",
              "    cursor: pointer;\n",
              "    display: none;\n",
              "    fill: var(--fill-color);\n",
              "    height: 32px;\n",
              "    padding: 0;\n",
              "    width: 32px;\n",
              "  }\n",
              "\n",
              "  .colab-df-quickchart:hover {\n",
              "    background-color: var(--hover-bg-color);\n",
              "    box-shadow: 0 1px 2px rgba(60, 64, 67, 0.3), 0 1px 3px 1px rgba(60, 64, 67, 0.15);\n",
              "    fill: var(--button-hover-fill-color);\n",
              "  }\n",
              "\n",
              "  .colab-df-quickchart-complete:disabled,\n",
              "  .colab-df-quickchart-complete:disabled:hover {\n",
              "    background-color: var(--disabled-bg-color);\n",
              "    fill: var(--disabled-fill-color);\n",
              "    box-shadow: none;\n",
              "  }\n",
              "\n",
              "  .colab-df-spinner {\n",
              "    border: 2px solid var(--fill-color);\n",
              "    border-color: transparent;\n",
              "    border-bottom-color: var(--fill-color);\n",
              "    animation:\n",
              "      spin 1s steps(1) infinite;\n",
              "  }\n",
              "\n",
              "  @keyframes spin {\n",
              "    0% {\n",
              "      border-color: transparent;\n",
              "      border-bottom-color: var(--fill-color);\n",
              "      border-left-color: var(--fill-color);\n",
              "    }\n",
              "    20% {\n",
              "      border-color: transparent;\n",
              "      border-left-color: var(--fill-color);\n",
              "      border-top-color: var(--fill-color);\n",
              "    }\n",
              "    30% {\n",
              "      border-color: transparent;\n",
              "      border-left-color: var(--fill-color);\n",
              "      border-top-color: var(--fill-color);\n",
              "      border-right-color: var(--fill-color);\n",
              "    }\n",
              "    40% {\n",
              "      border-color: transparent;\n",
              "      border-right-color: var(--fill-color);\n",
              "      border-top-color: var(--fill-color);\n",
              "    }\n",
              "    60% {\n",
              "      border-color: transparent;\n",
              "      border-right-color: var(--fill-color);\n",
              "    }\n",
              "    80% {\n",
              "      border-color: transparent;\n",
              "      border-right-color: var(--fill-color);\n",
              "      border-bottom-color: var(--fill-color);\n",
              "    }\n",
              "    90% {\n",
              "      border-color: transparent;\n",
              "      border-bottom-color: var(--fill-color);\n",
              "    }\n",
              "  }\n",
              "</style>\n",
              "\n",
              "  <script>\n",
              "    async function quickchart(key) {\n",
              "      const quickchartButtonEl =\n",
              "        document.querySelector('#' + key + ' button');\n",
              "      quickchartButtonEl.disabled = true;  // To prevent multiple clicks.\n",
              "      quickchartButtonEl.classList.add('colab-df-spinner');\n",
              "      try {\n",
              "        const charts = await google.colab.kernel.invokeFunction(\n",
              "            'suggestCharts', [key], {});\n",
              "      } catch (error) {\n",
              "        console.error('Error during call to suggestCharts:', error);\n",
              "      }\n",
              "      quickchartButtonEl.classList.remove('colab-df-spinner');\n",
              "      quickchartButtonEl.classList.add('colab-df-quickchart-complete');\n",
              "    }\n",
              "    (() => {\n",
              "      let quickchartButtonEl =\n",
              "        document.querySelector('#df-80579501-621b-43e1-ac5e-89e98f5d9bb4 button');\n",
              "      quickchartButtonEl.style.display =\n",
              "        google.colab.kernel.accessAllowed ? 'block' : 'none';\n",
              "    })();\n",
              "  </script>\n",
              "</div>\n",
              "    </div>\n",
              "  </div>\n"
            ]
          },
          "metadata": {},
          "execution_count": 34
        }
      ]
    },
    {
      "cell_type": "code",
      "source": [
        "# Data summary\n",
        "directors.info()"
      ],
      "metadata": {
        "colab": {
          "base_uri": "https://localhost:8080/"
        },
        "id": "pa-BEZqKtf17",
        "outputId": "f3fcc22b-bbaf-4aef-af53-54a5aa4951b1"
      },
      "execution_count": 33,
      "outputs": [
        {
          "output_type": "stream",
          "name": "stdout",
          "text": [
            "<class 'pandas.core.frame.DataFrame'>\n",
            "RangeIndex: 2349 entries, 0 to 2348\n",
            "Data columns (total 5 columns):\n",
            " #   Column      Non-Null Count  Dtype \n",
            "---  ------      --------------  ----- \n",
            " 0   name        2349 non-null   object\n",
            " 1   id          2349 non-null   int64 \n",
            " 2   gender      2349 non-null   int64 \n",
            " 3   uid         2349 non-null   int64 \n",
            " 4   department  2349 non-null   object\n",
            "dtypes: int64(3), object(2)\n",
            "memory usage: 91.9+ KB\n"
          ]
        }
      ]
    },
    {
      "cell_type": "markdown",
      "source": [
        "**Question 3**: Check how many movies are present in iMDB."
      ],
      "metadata": {
        "id": "RJyaBK1ltjZR"
      }
    },
    {
      "cell_type": "code",
      "source": [
        "cur.execute(\"SELECT COUNT(*) FROM movies\")\n",
        "movies_count = cur.fetchall()\n",
        "\n",
        "print(\"The iMDB database contains information of \"+str(movies_count[0][0])+\" movies.\")"
      ],
      "metadata": {
        "id": "g2K6Saewtnjv"
      },
      "execution_count": null,
      "outputs": []
    },
    {
      "cell_type": "markdown",
      "source": [
        "**Question 4**: Find these 3 directors: James Cameron ; Luc Besson ; John Woo"
      ],
      "metadata": {
        "id": "pSSrmY4FuGtU"
      }
    },
    {
      "cell_type": "code",
      "source": [
        "cur.execute(\"SELECT * FROM directors WHERE name IN ('James Cameron','Luc Besson', 'John Woo')\")\n",
        "selected_directors = cur.fetchall()\n",
        "selected_directors = pd.DataFrame(selected_directors, columns=directors_column_names)\n",
        "selected_directors"
      ],
      "metadata": {
        "id": "QATa2LtKuK0s"
      },
      "execution_count": null,
      "outputs": []
    },
    {
      "cell_type": "markdown",
      "source": [
        "**Question 5**: Find all directors with name starting with Steven."
      ],
      "metadata": {
        "id": "ouTV6cSpu4RE"
      }
    },
    {
      "cell_type": "code",
      "source": [
        "cur.execute(\"SELECT * FROM directors WHERE name LIKE 'Steven%'\")\n",
        "Steven_directors = cur.fetchall()\n",
        "Steven_directors = pd.DataFrame(Steven_directors, columns=directors_column_names)\n",
        "Steven_directors"
      ],
      "metadata": {
        "id": "c8BtSG-Gu3mJ"
      },
      "execution_count": null,
      "outputs": []
    },
    {
      "cell_type": "markdown",
      "source": [
        "**Question 6**: Count female directors."
      ],
      "metadata": {
        "id": "UO90hurZvQ5O"
      }
    },
    {
      "cell_type": "code",
      "source": [
        "# We know that there are three gender types from data and '1' represent female\n",
        "cur.execute(\"SELECT DISTINCT gender FROM directors\")\n",
        "gender_type = cur.fetchall()\n",
        "gender_type"
      ],
      "metadata": {
        "id": "DCeB8EYnvUFW"
      },
      "execution_count": null,
      "outputs": []
    },
    {
      "cell_type": "code",
      "source": [
        "cur.execute(\"SELECT count(*) FROM directors WHERE gender == '1' \")\n",
        "female_number = cur.fetchall()\n",
        "print('There are ' + str(female_number[0][0]) + ' female directors in the database')"
      ],
      "metadata": {
        "id": "Xy1PQx4Ww1YG"
      },
      "execution_count": null,
      "outputs": []
    },
    {
      "cell_type": "markdown",
      "source": [
        "**Question 7**: Find the name of the 10th first women directors?"
      ],
      "metadata": {
        "id": "08jRiD3WyF30"
      }
    },
    {
      "cell_type": "code",
      "source": [
        "# Ranked female directors by uid\n",
        "cur.execute(\"SELECT name FROM directors WHERE gender == '1' ORDER BY uid ASC \")\n",
        "female_directors = cur.fetchall()\n",
        "female_directors[0:10]"
      ],
      "metadata": {
        "id": "wVqJvE4ZyJwQ"
      },
      "execution_count": null,
      "outputs": []
    },
    {
      "cell_type": "markdown",
      "source": [
        "**Question 8**: What are the 3 most popular movies?\n"
      ],
      "metadata": {
        "id": "prq3YFV5zvSM"
      }
    },
    {
      "cell_type": "code",
      "source": [
        "# Rank the movies by popularity and fetch the top three\n",
        "cur.execute(\"SELECT * FROM movies ORDER BY popularity DESC LIMIT 3\")\n",
        "popular_movies = cur.fetchall()\n",
        "print(\"The 3 most popular movies are:\\n\")\n",
        "for movie in popular_movies:\n",
        "    print(movie[1])"
      ],
      "metadata": {
        "id": "YzZGd9Fdz74Q"
      },
      "execution_count": null,
      "outputs": []
    },
    {
      "cell_type": "markdown",
      "source": [
        "**Question 9**: What are the 3 most bankable movies?"
      ],
      "metadata": {
        "id": "y_kSMp_12mVv"
      }
    },
    {
      "cell_type": "code",
      "source": [
        "# Rank the movies by (total revenue - budget) and fetch the top three\n",
        "cur.execute(\"SELECT * FROM movies ORDER BY (revenue - budget) DESC LIMIT 3\")\n",
        "bankable_movies = cur.fetchall()\n",
        "print(\"The 3 most bankable movies are:\\n\")\n",
        "for movie in bankable_movies:\n",
        "    print(movie[1])"
      ],
      "metadata": {
        "id": "VBfxLFnN2ty_"
      },
      "execution_count": null,
      "outputs": []
    },
    {
      "cell_type": "markdown",
      "source": [
        "**Question 10**: What is the most awarded average vote since the January 1st, 2000?"
      ],
      "metadata": {
        "id": "W8FIIaat4G92"
      }
    },
    {
      "cell_type": "code",
      "source": [
        "# Select the max value for voted average since 2000-1-1\n",
        "cur.execute(\"SELECT MAX(vote_average) FROM movies WHERE release_date >= '2000-01-01'\")\n",
        "most_voted_average = cur.fetchall()\n",
        "print(\"The most awarded average vote since the January 1st 2000 is \"+str(most_voted_average[0][0])+\".\")"
      ],
      "metadata": {
        "colab": {
          "base_uri": "https://localhost:8080/"
        },
        "id": "K59yCSFD4ThM",
        "outputId": "b2989711-885a-402b-8da5-19c9314bb876"
      },
      "execution_count": 70,
      "outputs": [
        {
          "output_type": "stream",
          "name": "stdout",
          "text": [
            "The most awarded average vote since the January 1st 2000 is 9.5.\n"
          ]
        }
      ]
    },
    {
      "cell_type": "markdown",
      "source": [
        "**Question 11**: Which movie(s) were directed by Brenda Chapman?"
      ],
      "metadata": {
        "id": "dtsneYsN5mPq"
      }
    },
    {
      "cell_type": "code",
      "source": [
        "# Select the movie which have the same director id as the one from directors database\n",
        "cur.execute(\"\"\"SELECT original_title\n",
        "              FROM movies JOIN directors ON directors.id = movies.director_id\n",
        "              WHERE directors.name = 'Brenda Chapman'\"\"\")\n",
        "movies_Brenda_Chapman = cur.fetchall()\n",
        "print(\"Movies directed by Brenda Chapman: \"+str(movies_Brenda_Chapman[0][0]))"
      ],
      "metadata": {
        "colab": {
          "base_uri": "https://localhost:8080/"
        },
        "id": "vVs4kYmd5oEQ",
        "outputId": "ec8b0c62-2e6d-439a-bef6-608c88ba7c1a"
      },
      "execution_count": 71,
      "outputs": [
        {
          "output_type": "stream",
          "name": "stdout",
          "text": [
            "Movies directed by Brenda Chapman: Brave\n"
          ]
        }
      ]
    },
    {
      "cell_type": "markdown",
      "source": [
        "**Question 12**: Whose director made the most movies?"
      ],
      "metadata": {
        "id": "5WM7kh_66zZR"
      }
    },
    {
      "cell_type": "code",
      "source": [
        "# Rank the director id by the number of movies and select the name from the directors database\n",
        "cur.execute(\"\"\" SELECT name, COUNT(director_id)\n",
        "                FROM movies JOIN directors\n",
        "                ON directors.id = movies.director_id\n",
        "                GROUP BY director_id\n",
        "                ORDER BY COUNT(director_id)\n",
        "                DESC LIMIT 1\"\"\"\n",
        ")\n",
        "most_movie_director = cur.fetchall()\n",
        "print(str(most_movie_director[0][0])+ \"made the most movies, which is \" +str(most_movie_director[0][1]) )"
      ],
      "metadata": {
        "colab": {
          "base_uri": "https://localhost:8080/"
        },
        "id": "TgEja0lc619M",
        "outputId": "c8f741bf-93bc-4857-8ca4-194909faf3ea"
      },
      "execution_count": 78,
      "outputs": [
        {
          "output_type": "stream",
          "name": "stdout",
          "text": [
            "Steven Spielbergmade the most movies, which is27\n"
          ]
        }
      ]
    },
    {
      "cell_type": "code",
      "source": [],
      "metadata": {
        "id": "o0BPw93_9i25"
      },
      "execution_count": null,
      "outputs": []
    },
    {
      "cell_type": "markdown",
      "source": [
        "**Question 13**: Whose director is the most bankable?"
      ],
      "metadata": {
        "id": "dV0E3HMv7_h2"
      }
    },
    {
      "cell_type": "code",
      "source": [
        "cur.execute(\"\"\" SELECT name, (revenue - budget)\n",
        "                FROM movies JOIN directors\n",
        "                ON directors.id = movies.director_id\n",
        "                GROUP BY director_id\n",
        "                ORDER BY SUM(revenue - budget)\n",
        "                DESC LIMIT 1\"\"\")\n",
        "\n",
        "most_bankable_director = cur.fetchall()\n",
        "print(str(most_bankable_director[0][0])+ \"made the most money from movies, which the total profit is \" + str(most_bankable_director[0][1]) + \" dollars\")"
      ],
      "metadata": {
        "colab": {
          "base_uri": "https://localhost:8080/"
        },
        "id": "XMMEU6HX8cK2",
        "outputId": "f02ec3c6-12ff-4806-f3f5-fcfb015b2556"
      },
      "execution_count": 82,
      "outputs": [
        {
          "output_type": "stream",
          "name": "stdout",
          "text": [
            "Steven Spielbergmade the most money from movies, which the total profit is 601636033 dollars\n"
          ]
        }
      ]
    }
  ]
}